import pands as pd
a=o
print(a)
